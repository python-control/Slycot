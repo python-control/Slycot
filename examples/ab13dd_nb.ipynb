{
 "cells": [
  {
   "attachments": {},
   "cell_type": "markdown",
   "metadata": {},
   "source": [
    "# ab13dd Example\n",
    "\n",
    "Johannes Kaisinger, 26 July 2023"
   ]
  },
  {
   "cell_type": "code",
   "execution_count": 2,
   "metadata": {},
   "outputs": [],
   "source": [
    "import numpy as np\n",
    "import scipy.linalg as linalg\n",
    "import slycot"
   ]
  },
  {
   "cell_type": "code",
   "execution_count": 3,
   "metadata": {},
   "outputs": [],
   "source": [
    "A = np.array([\n",
    "    [-1, 10],\n",
    "    [0, -1]\n",
    "])\n",
    "\n",
    "B = np.array([\n",
    "    [0],\n",
    "    [1]])\n",
    "\n",
    "C = np.array([\n",
    "    [1, 0]])\n",
    "D = np.zeros((1,1))\n",
    "\n",
    "n, m = B.shape\n",
    "p, _ = C.shape"
   ]
  },
  {
   "attachments": {},
   "cell_type": "markdown",
   "metadata": {},
   "source": [
    "## Slycot H-infinity Norm"
   ]
  },
  {
   "cell_type": "code",
   "execution_count": 4,
   "metadata": {},
   "outputs": [
    {
     "name": "stdout",
     "output_type": "stream",
     "text": [
      "10.0\n"
     ]
    }
   ],
   "source": [
    "out = slycot.ab13dd('C', 'I', 'N', 'D', n, m, p, A, np.eye(n), B, C, D)\n",
    "norm_sylcot, _ = out\n",
    "print(norm_sylcot)"
   ]
  },
  {
   "attachments": {},
   "cell_type": "markdown",
   "metadata": {},
   "source": [
    "## Bisection algorithm H-infinity Norm"
   ]
  },
  {
   "cell_type": "code",
   "execution_count": 5,
   "metadata": {},
   "outputs": [],
   "source": [
    "def H_inf(A,B,C,D,gam_l,gam_h,emin):\n",
    "    \"\"\"naive implementation of bisection algorithm for H-infinity norm\n",
    "\n",
    "    Args:\n",
    "        A (_type_): _description_\n",
    "        B (_type_): _description_\n",
    "        C (_type_): _description_\n",
    "        D (_type_): _description_\n",
    "        gam_l (_type_): _description_\n",
    "        gam_h (_type_): _description_\n",
    "        emin (_type_): _description_\n",
    "\n",
    "    Returns:\n",
    "        _type_: _description_\n",
    "    \"\"\"\n",
    "    gam_last_stable = None\n",
    "    while (gam_h - gam_l) > emin:\n",
    "        gam = (gam_l+gam_h)/2\n",
    "        R = gam**2*np.eye(1)-D.T@D\n",
    "        R_inv = linalg.inv(R)\n",
    "        Mgam = np.vstack((\n",
    "        np.hstack((A+B@R_inv@D.T@C, B@R_inv@B.T)),\n",
    "        np.hstack((-C.T@(np.eye(1)+D@R_inv@D.T)@C, -(A+B@R_inv@D.T@C).T))))\n",
    "        d = linalg.eigvals(Mgam)\n",
    "        if np.any(np.imag(d)):\n",
    "            gam_l = gam\n",
    "        else:\n",
    "            gam_h = gam\n",
    "            gam_last_stable = gam\n",
    "    return gam_last_stable"
   ]
  },
  {
   "cell_type": "code",
   "execution_count": 6,
   "metadata": {},
   "outputs": [
    {
     "name": "stdout",
     "output_type": "stream",
     "text": [
      "10.000000000000638\n"
     ]
    }
   ],
   "source": [
    "norm_bi = H_inf(A,B,C,D,0.001,100,1e-10)\n",
    "print(norm_bi)"
   ]
  },
  {
   "attachments": {},
   "cell_type": "markdown",
   "metadata": {},
   "source": [
    "## Compare"
   ]
  },
  {
   "cell_type": "code",
   "execution_count": 7,
   "metadata": {},
   "outputs": [
    {
     "name": "stdout",
     "output_type": "stream",
     "text": [
      "10.0\n",
      "10.000000000000638\n"
     ]
    },
    {
     "data": {
      "text/plain": [
       "True"
      ]
     },
     "execution_count": 7,
     "metadata": {},
     "output_type": "execute_result"
    }
   ],
   "source": [
    "# compare results\n",
    "print(norm_sylcot)\n",
    "print(norm_bi)\n",
    "np.allclose(norm_sylcot,norm_bi)\n"
   ]
  }
 ],
 "metadata": {
  "kernelspec": {
   "display_name": "slycot-dev",
   "language": "python",
   "name": "python3"
  },
  "language_info": {
   "codemirror_mode": {
    "name": "ipython",
    "version": 3
   },
   "file_extension": ".py",
   "mimetype": "text/x-python",
   "name": "python",
   "nbconvert_exporter": "python",
   "pygments_lexer": "ipython3",
   "version": "3.10.6"
  },
  "orig_nbformat": 4
 },
 "nbformat": 4,
 "nbformat_minor": 2
}
