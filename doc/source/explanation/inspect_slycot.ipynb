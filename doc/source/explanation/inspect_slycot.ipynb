{
 "cells": [
  {
   "attachments": {},
   "cell_type": "markdown",
   "metadata": {},
   "source": [
    "# Inspect Slycot"
   ]
  },
  {
   "attachments": {},
   "cell_type": "markdown",
   "metadata": {},
   "source": [
    "This notebook shows how to inspect the slycot module.\n",
    "The result gives us a first insight which slicot procedures are implemented.\n",
    "In addition we get some insight about the organization of the slycot module."
   ]
  },
  {
   "cell_type": "code",
   "execution_count": 2,
   "metadata": {},
   "outputs": [
    {
     "name": "stdout",
     "output_type": "stream",
     "text": [
      "0.5.5.dev84+g9815526\n"
     ]
    }
   ],
   "source": [
    "import re\n",
    "import slycot\n",
    "print(slycot.__version__)"
   ]
  },
  {
   "attachments": {},
   "cell_type": "markdown",
   "metadata": {},
   "source": [
    "##  Helper functions"
   ]
  },
  {
   "cell_type": "code",
   "execution_count": 3,
   "metadata": {},
   "outputs": [],
   "source": [
    "def print_list_chunks(routines_list, n=6):\n",
    "    \"\"\"Print list in chunks of lists.\"\"\"\n",
    "    start = 0\n",
    "    end = len(routines_list)\n",
    "    step = n\n",
    "    for i in range(start, end, step):\n",
    "        x = i\n",
    "        print(routines_list[x:x+step])"
   ]
  },
  {
   "cell_type": "code",
   "execution_count": 4,
   "metadata": {},
   "outputs": [],
   "source": [
    "def get_slycot_routines(sly):\n",
    "    all_attributes = dir(sly)\n",
    "    r = re.compile(\"[a-z][a-z][0-9][0-9a-z][a-z][a-z]\")\n",
    "    matched_attributes = list(filter(r.match, all_attributes)) # Read Note below\n",
    "    return matched_attributes"
   ]
  },
  {
   "attachments": {},
   "cell_type": "markdown",
   "metadata": {},
   "source": [
    "## Inspect Wrapper function"
   ]
  },
  {
   "attachments": {},
   "cell_type": "markdown",
   "metadata": {},
   "source": [
    "### Outer wrapper"
   ]
  },
  {
   "cell_type": "code",
   "execution_count": 5,
   "metadata": {},
   "outputs": [
    {
     "name": "stdout",
     "output_type": "stream",
     "text": [
      "There are currently 56 routines that are found in slycot.\n",
      "------\n",
      "['ab01nd', 'ab04md', 'ab05md', 'ab05nd', 'ab07nd', 'ab08nd']\n",
      "['ab08nz', 'ab09ad', 'ab09ax', 'ab09bd', 'ab09md', 'ab09nd']\n",
      "['ab13bd', 'ab13dd', 'ab13ed', 'ab13fd', 'ab13md', 'ag08bd']\n",
      "['mb02ed', 'mb03rd', 'mb03vd', 'mb03vy', 'mb03wd', 'mb05md']\n",
      "['mb05nd', 'mc01td', 'sb01bd', 'sb02md', 'sb02mt', 'sb02od']\n",
      "['sb03md', 'sb03md57', 'sb03od', 'sb04md', 'sb04qd', 'sb10ad']\n",
      "['sb10dd', 'sb10fd', 'sb10hd', 'sb10jd', 'sb10yd', 'sg02ad']\n",
      "['sg03ad', 'sg03bd', 'tb01id', 'tb01pd', 'tb03ad', 'tb04ad']\n",
      "['tb05ad', 'tc01od', 'tc04ad', 'td04ad', 'tf01md', 'tf01rd']\n",
      "['tg01ad', 'tg01fd']\n",
      "None\n"
     ]
    }
   ],
   "source": [
    "slycot_wrapper = get_slycot_routines(slycot)\n",
    "\n",
    "print(f\"There are currently {len(slycot_wrapper)} routines that are found in slycot.\")\n",
    "print(\"------\")\n",
    "print(print_list_chunks(slycot_wrapper))"
   ]
  },
  {
   "attachments": {},
   "cell_type": "markdown",
   "metadata": {},
   "source": [
    "### Inner wrapper"
   ]
  },
  {
   "cell_type": "code",
   "execution_count": 6,
   "metadata": {},
   "outputs": [
    {
     "name": "stdout",
     "output_type": "stream",
     "text": [
      "There are currently 74 routines that are found in slycot._wrapper.\n",
      "------\n",
      "['ab01nd', 'ab04md', 'ab05md', 'ab05nd', 'ab07nd', 'ab08nd']\n",
      "['ab08nz', 'ab09ad', 'ab09ax', 'ab09bd', 'ab09md', 'ab09nd']\n",
      "['ab13bd', 'ab13dd', 'ab13ed', 'ab13fd', 'ab13md', 'ag08bd']\n",
      "['mb02ed', 'mb03rd', 'mb03vd', 'mb03vy', 'mb03wd', 'mb05md']\n",
      "['mb05nd', 'mc01td', 'sb01bd', 'sb02md', 'sb02mt_c', 'sb02mt_cl']\n",
      "['sb02mt_n', 'sb02mt_nl', 'sb02od_b', 'sb02od_c', 'sb02od_d', 'sb02od_n']\n",
      "['sb03md', 'sb03od', 'sb04md', 'sb04qd', 'sb10ad', 'sb10dd']\n",
      "['sb10fd', 'sb10hd', 'sb10jd', 'sb10yd', 'sg02ad_bb', 'sg02ad_bc']\n",
      "['sg02ad_bd', 'sg02ad_bn', 'sg02ad_g', 'sg03ad', 'sg03bd', 'tb01id']\n",
      "['tb01pd', 'tb03ad_l', 'tb03ad_r', 'tb04ad_c', 'tb04ad_r', 'tb05ad_ag']\n",
      "['tb05ad_ng', 'tb05ad_nh', 'tc01od_l', 'tc01od_r', 'tc04ad_l', 'tc04ad_r']\n",
      "['td04ad_c', 'td04ad_r', 'tf01md', 'tf01rd', 'tg01ad', 'tg01fd_ii']\n",
      "['tg01fd_nn', 'tg01fd_uu']\n",
      "None\n"
     ]
    }
   ],
   "source": [
    "slycot_f2py_wrapper = get_slycot_routines(slycot._wrapper)\n",
    "\n",
    "print(f\"There are currently {len(slycot_f2py_wrapper)} routines that are found in slycot._wrapper.\")\n",
    "print(\"------\")\n",
    "print(print_list_chunks(slycot_f2py_wrapper))"
   ]
  },
  {
   "attachments": {},
   "cell_type": "markdown",
   "metadata": {},
   "source": [
    "## Generate Sets for the Venn-Diagramm"
   ]
  },
  {
   "cell_type": "code",
   "execution_count": 7,
   "metadata": {},
   "outputs": [],
   "source": [
    "import matplotlib.pyplot as plt\n",
    "from matplotlib_venn import venn2"
   ]
  },
  {
   "cell_type": "code",
   "execution_count": 8,
   "metadata": {},
   "outputs": [
    {
     "name": "stdout",
     "output_type": "stream",
     "text": [
      "There are currently 11 routines that found in slycot not in slycot._wrapper.\n",
      "------\n",
      "['sb03md57', 'tg01fd', 'tc01od', 'td04ad', 'tb03ad', 'sb02mt']\n",
      "['sg02ad', 'tb04ad', 'tc04ad', 'sb02od', 'tb05ad']\n",
      "None\n",
      "\n",
      "\n",
      "There are currently 29 routines that are found in slycot._wrapper not in slycot.\n",
      "------\n",
      "['tb04ad_r', 'tb05ad_ag', 'tg01fd_uu', 'sb02mt_nl', 'tc04ad_l', 'tb04ad_c']\n",
      "['sb02od_n', 'tg01fd_ii', 'sb02od_d', 'sg02ad_bb', 'sb02od_c', 'sg02ad_g']\n",
      "['td04ad_c', 'sb02mt_cl', 'td04ad_r', 'tg01fd_nn', 'sb02mt_n', 'tc01od_r']\n",
      "['sg02ad_bn', 'sb02mt_c', 'sb02od_b', 'sg02ad_bd', 'tb05ad_ng', 'tb05ad_nh']\n",
      "['tc04ad_r', 'tb03ad_l', 'tc01od_l', 'tb03ad_r', 'sg02ad_bc']\n",
      "None\n",
      "\n",
      "\n"
     ]
    }
   ],
   "source": [
    "not_in_slycot_f2py_wrapper = list(set(slycot_wrapper) - set(slycot_f2py_wrapper))\n",
    "not_in_slycot_f2py_wrapper\n",
    "\n",
    "print(f\"There are currently {len(not_in_slycot_f2py_wrapper)} routines that found in slycot not in slycot._wrapper.\")\n",
    "print(\"------\")\n",
    "print(print_list_chunks(not_in_slycot_f2py_wrapper))\n",
    "print(\"\\n\")\n",
    "\n",
    "not_in_slycot_wrapper = list(set(slycot_f2py_wrapper) - set(slycot_wrapper))\n",
    "not_in_slycot_wrapper\n",
    "\n",
    "print(f\"There are currently {len(not_in_slycot_wrapper)} routines that are found in slycot._wrapper not in slycot.\")\n",
    "print(\"------\")\n",
    "print(print_list_chunks(not_in_slycot_wrapper))\n",
    "print(\"\\n\")"
   ]
  },
  {
   "cell_type": "code",
   "execution_count": 9,
   "metadata": {},
   "outputs": [
    {
     "name": "stdout",
     "output_type": "stream",
     "text": [
      "There are currently 85 routines that are found in slycot or in slycot._wrapper. (union)\n",
      "------\n",
      "['tb04ad_r', 'sb10fd', 'ab13bd', 'tg01fd_ii', 'sb01bd', 'ab09ax']\n",
      "['sb03od', 'tf01md', 'ab04md', 'ab05md', 'sg02ad_g', 'mb05md']\n",
      "['tg01fd_nn', 'sb02od', 'sb03md57', 'tc01od_r', 'mc01td', 'sg02ad_bn']\n",
      "['td04ad', 'sb02mt', 'tb05ad_ng', 'mb03vd', 'tb05ad_nh', 'tc04ad_r']\n",
      "['sb10jd', 'sg03bd', 'ag08bd', 'mb05nd', 'tc01od_l', 'tb04ad']\n",
      "['tc04ad', 'sg02ad_bc', 'ab08nz', 'ab13dd', 'ab13md', 'sb03md']\n",
      "['sb04md', 'ab01nd', 'tb05ad_ag', 'tg01fd_uu', 'sb02mt_nl', 'ab09ad']\n",
      "['tc04ad_l', 'tb04ad_c', 'sb02od_n', 'sb10ad', 'mb02ed', 'sb10yd']\n",
      "['sg02ad', 'ab07nd', 'sb02od_d', 'ab09bd', 'sg02ad_bb', 'tb01id']\n",
      "['tf01rd', 'ab05nd', 'sb02od_c', 'td04ad_c', 'tb03ad', 'sb10hd']\n",
      "['ab08nd', 'sb02mt_cl', 'ab13fd', 'td04ad_r', 'tb05ad', 'sb02mt_n']\n",
      "['tg01fd', 'sb04qd', 'sg03ad', 'ab09md', 'tb01pd', 'tc01od']\n",
      "['ab09nd', 'sb10dd', 'mb03wd', 'mb03vy', 'ab13ed', 'sb02mt_c']\n",
      "['sb02od_b', 'sg02ad_bd', 'tg01ad', 'tb03ad_l', 'mb03rd', 'tb03ad_r']\n",
      "['sb02md']\n",
      "None\n",
      "\n",
      "\n",
      "There are currently 45 routines that are found in slycot and in slycot._wrapper. (intersection)\n",
      "------\n",
      "['ab08nz', 'ab13dd', 'ab13md', 'sb03md', 'sb04md', 'ab01nd']\n",
      "['ab09ad', 'sb10fd', 'ab13bd', 'sb10ad', 'mb02ed', 'sb10yd']\n",
      "['ab07nd', 'sb03od', 'sb01bd', 'ab09ax', 'ab09bd', 'tf01md']\n",
      "['ab04md', 'tb01id', 'tf01rd', 'ab05md', 'ab05nd', 'sb10hd']\n",
      "['ab08nd', 'ab13fd', 'mb05md', 'sb04qd', 'sg03ad', 'ab09md']\n",
      "['mc01td', 'tb01pd', 'ab09nd', 'sb10dd', 'mb03wd', 'mb03vy']\n",
      "['ab13ed', 'tg01ad', 'mb03vd', 'sb10jd', 'sg03bd', 'ag08bd']\n",
      "['mb05nd', 'mb03rd', 'sb02md']\n",
      "None\n",
      "\n",
      "\n"
     ]
    }
   ],
   "source": [
    "union = list(set(slycot_f2py_wrapper) | set(slycot_wrapper))\n",
    "\n",
    "print(f\"There are currently {len(union)} routines that are found in slycot or in slycot._wrapper. (union)\")\n",
    "print(\"------\")\n",
    "print(print_list_chunks(union))\n",
    "print(\"\\n\")\n",
    "\n",
    "\n",
    "intersection = list(set(slycot_f2py_wrapper) & set(slycot_wrapper))\n",
    "intersection\n",
    "\n",
    "print(f\"There are currently {len(intersection)} routines that are found in slycot and in slycot._wrapper. (intersection)\")\n",
    "print(\"------\")\n",
    "print(print_list_chunks(intersection))\n",
    "print(\"\\n\")"
   ]
  },
  {
   "cell_type": "code",
   "execution_count": 16,
   "metadata": {},
   "outputs": [
    {
     "data": {
      "image/png": "[encoded data removed]",
      "text/plain": [
       "<Figure size 640x480 with 1 Axes>"
      ]
     },
     "metadata": {},
     "output_type": "display_data"
    }
   ],
   "source": [
    "color_yellow = \"#FFE365\"\n",
    "color_blue = \"#4483B5\"\n",
    "color_purple = \"#533B6B\"\n",
    "\n",
    "venn2(subsets = (len(set(slycot_wrapper)), \n",
    "                 len(set(slycot_f2py_wrapper)), \n",
    "                 len(intersection)),\n",
    "      set_labels = ('slycot', 'slycot._wrapper'),\n",
    "      set_colors=(color_yellow, color_blue),\n",
    "      alpha=0.8)\n",
    "plt.show()"
   ]
  },
  {
   "cell_type": "code",
   "execution_count": null,
   "metadata": {},
   "outputs": [],
   "source": []
  }
 ],
 "metadata": {
  "kernelspec": {
   "display_name": "slycot-dev",
   "language": "python",
   "name": "python3"
  },
  "language_info": {
   "codemirror_mode": {
    "name": "ipython",
    "version": 3
   },
   "file_extension": ".py",
   "mimetype": "text/x-python",
   "name": "python",
   "nbconvert_exporter": "python",
   "pygments_lexer": "ipython3",
   "version": "3.10.12"
  },
  "orig_nbformat": 4
 },
 "nbformat": 4,
 "nbformat_minor": 2
}
